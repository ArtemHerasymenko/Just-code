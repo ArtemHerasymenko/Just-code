{
 "cells": [
  {
   "cell_type": "code",
   "execution_count": 3,
   "metadata": {},
   "outputs": [],
   "source": [
    "from mnist import MNIST\n",
    "import numpy as np\n",
    "import matplotlib.pyplot as plt\n",
    "mndata = MNIST('./MNIST/python-mnist/data')\n",
    "%matplotlib inline"
   ]
  },
  {
   "cell_type": "code",
   "execution_count": 4,
   "metadata": {},
   "outputs": [],
   "source": [
    "def get_mnist_dataset(size_train,size_test):\n",
    "    images, labels = mndata.load_training()\n",
    "    \n",
    "    size = size_train + size_test\n",
    "    \n",
    "    images = images[:size]\n",
    "    labels = labels[:size]\n",
    "    \n",
    "    X = np.array(images)\n",
    "    L = np.array(labels)\n",
    "    \n",
    "    X = X / 255.0\n",
    "    \n",
    "    L = L.reshape((len(labels),1))\n",
    "\n",
    "    Y = np.zeros((len(labels),10))\n",
    "    \n",
    "    Y[np.arange(len(labels)) , L.T] = 1\n",
    "\n",
    "    \n",
    "    x_train = X[range(0,size_train)]\n",
    "    y_train = Y[range(0,size_train)]\n",
    "    \n",
    "    \n",
    "    x_test = X[range(size_train, size)]\n",
    "    y_test = Y[range(size_train, size)]\n",
    "    return x_train.T,y_train.T, x_test.T, y_test.T"
   ]
  },
  {
   "cell_type": "code",
   "execution_count": 5,
   "metadata": {},
   "outputs": [],
   "source": [
    "def forward_linear_tanh(X,W,b):\n",
    "    Z = np.dot(W,X) + b\n",
    "    A = np.tanh(Z)\n",
    "    \n",
    "    return A,Z"
   ]
  },
  {
   "cell_type": "code",
   "execution_count": 6,
   "metadata": {},
   "outputs": [],
   "source": [
    "def sigmoid(A):\n",
    "    return 1.0 / (1 + np.exp( - A))"
   ]
  },
  {
   "cell_type": "code",
   "execution_count": 7,
   "metadata": {},
   "outputs": [],
   "source": [
    "def forward_linear_sigmoid(X,W,b):\n",
    "\n",
    "    Z = np.dot(W,X) + b\n",
    "    A = sigmoid(Z)\n",
    "    \n",
    "    return A,Z"
   ]
  },
  {
   "cell_type": "code",
   "execution_count": 8,
   "metadata": {},
   "outputs": [],
   "source": [
    "def forward(parameters,X):\n",
    "    \n",
    "    number_layers = len(parameters)//2 + 1\n",
    "    \n",
    "#     print(\"b.shape = \" + str(parameters[\"b1\"].shape))\n",
    "    \n",
    "    cache = {}\n",
    "    cache[\"A0\"] = X\n",
    "    \n",
    "    A = X\n",
    "    \n",
    "    for i in range(1,number_layers - 1):\n",
    "        A , Z = forward_linear_tanh(A,parameters[\"W\" + str(i)], parameters[\"b\" + str(i)])\n",
    "        cache[\"A\" + str(i)] = A\n",
    "        cache[\"Z\" + str(i)] = Z\n",
    "        \n",
    "    A, Z = forward_linear_sigmoid(A,parameters[\"W\" + str(number_layers - 1)],\n",
    "                               parameters[\"b\" + str(number_layers - 1)])\n",
    "    cache[\"A\" + str(number_layers - 1)] = A\n",
    "    cache[\"Z\" + str(number_layers - 1)] = Z\n",
    "\n",
    "    return cache"
   ]
  },
  {
   "cell_type": "code",
   "execution_count": 9,
   "metadata": {},
   "outputs": [],
   "source": [
    "def backward_linear_sigmoid(dA,W,A_prev,Z):\n",
    "    n = A_prev.shape[1]\n",
    "    \n",
    "    dZ = np.multiply(dA,np.multiply(sigmoid(Z), sigmoid(1 - Z)))\n",
    "    \n",
    "    dW = np.dot(dZ,A_prev.T) / n\n",
    "    \n",
    "    db = np.sum(dZ, axis = 1) / n\n",
    "    db = db.reshape((dZ.shape[0],1))\n",
    "    \n",
    "    dA_prev = np.dot(W.T,dZ)\n",
    "    \n",
    "    return dA_prev, dW, db"
   ]
  },
  {
   "cell_type": "code",
   "execution_count": 10,
   "metadata": {},
   "outputs": [],
   "source": [
    "def backward_linear_tanh(dA,W,A_prev,Z):\n",
    "    n = A_prev.shape[1]\n",
    "    \n",
    "    dZ = np.multiply(dA,1 - np.power(np.tanh(Z),2))\n",
    "    \n",
    "    dW = np.dot(dZ,A_prev.T) / n\n",
    "    \n",
    "    db = np.sum(dZ, axis = 1) / n\n",
    "    db = db.reshape((dZ.shape[0],1))\n",
    "    \n",
    "    dA_prev = np.dot(W.T,dZ)\n",
    "    \n",
    "    return dA_prev, dW, db"
   ]
  },
  {
   "cell_type": "code",
   "execution_count": 11,
   "metadata": {},
   "outputs": [],
   "source": [
    "def backward(A_Z_cached,parameters,Y):\n",
    "    \n",
    "    number_layers = len(parameters)//2 + 1\n",
    "    \n",
    "    A_last_layer = A_Z_cached[\"A\" + str(number_layers - 1)]\n",
    "    \n",
    "    derivatives_A = {}\n",
    "    derivatives = {}\n",
    "    \n",
    "    # does not work ((\n",
    "    derivatives_A[\"dA\" + str(number_layers - 1)] = (A_last_layer - Y) / (A_last_layer - np.power(A_last_layer,2))\n",
    "    \n",
    "#     derivatives_A[\"dA\" + str(number_layers - 1)] = (A_last_layer - Y)\n",
    "    \n",
    "    #for the last layer with sigmoid\n",
    "    W = parameters[\"W\" + str(number_layers - 1)]\n",
    "    dA = derivatives_A[\"dA\" + str(number_layers - 1)]\n",
    "    A_prev = A_Z_cached[\"A\" + str(number_layers - 2)]\n",
    "    Z = A_Z_cached[\"Z\" + str(number_layers - 1)]\n",
    "    \n",
    "    dA_prev, dW, db = backward_linear_sigmoid(dA,W,A_prev,Z)\n",
    "    \n",
    "    derivatives_A[\"dA\" + str(number_layers - 2)] = dA_prev\n",
    "    derivatives[\"dW\" + str(number_layers - 1)] = dW\n",
    "    derivatives[\"db\" + str(number_layers - 1)] = db\n",
    "    #\n",
    "    \n",
    "    #for layers number_layers - 2 --> 1\n",
    "    for l in reversed(range(1,number_layers - 1)):\n",
    "        W = parameters[\"W\" + str(l)]\n",
    "        dA = derivatives_A[\"dA\" + str(l)]\n",
    "        A_prev = A_Z_cached[\"A\" + str(l - 1)]\n",
    "        Z = A_Z_cached[\"Z\" + str(l)]\n",
    "        \n",
    "        dA_prev, dW, db = backward_linear_tanh(dA,W,A_prev,Z)\n",
    "        \n",
    "        derivatives_A[\"dA\" + str(l - 1)] = dA_prev\n",
    "        derivatives[\"dW\" + str(l)] = dW\n",
    "        derivatives[\"db\" + str(l)] = db\n",
    "    \n",
    "    return derivatives"
   ]
  },
  {
   "cell_type": "code",
   "execution_count": 12,
   "metadata": {},
   "outputs": [],
   "source": [
    "def calculate_cost(X,Y,parameters):\n",
    "    \n",
    "    A_Z_cache = forward(parameters,X)\n",
    "    \n",
    "    number_layers = len(parameters)//2 + 1\n",
    "    \n",
    "    n = X.shape[1]\n",
    "    \n",
    "    A = A_Z_cache[\"A\" + str(number_layers - 1)]\n",
    "    \n",
    "    cost = - (np.multiply(Y,np.log(A)) + np.multiply(1 - Y , np.log(1 - A)))\n",
    "    \n",
    "    cost = np.sum(cost) / n\n",
    "    \n",
    "    return cost"
   ]
  },
  {
   "cell_type": "code",
   "execution_count": 13,
   "metadata": {},
   "outputs": [],
   "source": [
    "def calculate_accuracy(X,Y,parameters):\n",
    "    \n",
    "#     print(\"b.shape = \" + str(parameters[\"b1\"].shape))\n",
    "    \n",
    "    A_Z_cache = forward(parameters,X)\n",
    "    \n",
    "    number_layers = len(parameters)//2 + 1\n",
    "    \n",
    "    n = X.shape[1]\n",
    "    \n",
    "    A = A_Z_cache[\"A\" + str(number_layers - 1)]\n",
    "    \n",
    "    Y_ans = np.argmax(Y, axis = 0)\n",
    "    \n",
    "    A_ans = np.argmax(A, axis = 0)\n",
    "    \n",
    "    accuracy = np.sum((Y_ans == A_ans)) / n\n",
    "    \n",
    "    return accuracy"
   ]
  },
  {
   "cell_type": "code",
   "execution_count": 14,
   "metadata": {},
   "outputs": [],
   "source": [
    "def generate_parameters(layers_size):\n",
    "    parameters = {}\n",
    "    \n",
    "    for l in range(1,len(layers_size)):\n",
    "        parameters[\"W\" + str(l)] = np.random.randn(layers_size[l],layers_size[l-1]) * 0.01\n",
    "        parameters[\"b\" + str(l)] = np.zeros((layers_size[l],1))\n",
    "#         print(\"b\" + str(l)+ \".shape = \"  + str(parameters[\"b\" + str(l)].shape))\n",
    "        \n",
    "    return parameters"
   ]
  },
  {
   "cell_type": "code",
   "execution_count": 21,
   "metadata": {},
   "outputs": [],
   "source": [
    "def train_model(X,Y,learning_rate ,number_epoch ,layers_size ,X_test,Y_test,parameters):\n",
    "    \n",
    "    \n",
    "#     print(\"b.shape = \" + str(parameters[\"b1\"].shape))\n",
    "    \n",
    "    number_layers = len(layers_size)\n",
    "    \n",
    "    train_accuracy = []\n",
    "    test_accuracy = []\n",
    "\n",
    "    train_cost = []\n",
    "    test_cost = []\n",
    "    \n",
    "    for i in range(0,number_epoch):\n",
    "        \n",
    "#         print(\"iter = \" + str(i))\n",
    "        \n",
    "        train_accuracy_temp = calculate_accuracy(X,Y,parameters)\n",
    "        test_accuracy_temp = calculate_accuracy(X_test,Y_test,parameters)\n",
    "        \n",
    "#         print(\"Train accuracy = \" + str(train_accuracy_temp))\n",
    "#         print(\"Test accuracy = \" + str(test_accuracy_temp))\n",
    "        \n",
    "        train_accuracy.append(train_accuracy_temp)\n",
    "        test_accuracy.append(test_accuracy_temp)\n",
    "        \n",
    "        train_cost_temp = calculate_cost(X,Y,parameters)\n",
    "        train_cost.append(train_cost_temp)\n",
    "        \n",
    "        test_cost_temp = calculate_cost(X_test,Y_test,parameters) \n",
    "        test_cost.append(test_cost_temp)\n",
    "        \n",
    "#         print(\"Train cost = \" + str(train_cost_temp))\n",
    "#         print(\"Test cost = \" + str(test_cost_temp))\n",
    "        \n",
    "#         print(\"\")\n",
    "        \n",
    "        A_Z_cached = forward(parameters,X)\n",
    "        \n",
    "        derivatives = backward(A_Z_cached,parameters,Y)\n",
    "        \n",
    "#         print(\"derivative = \" + str(derivatives))\n",
    "\n",
    "        for l in range(1,number_layers):\n",
    "#             print(\"before\")\n",
    "#             print(\"W\" + str(l) + str(parameters[\"W\" + str(l)]))\n",
    "            \n",
    "            parameters[\"W\" + str(l)] = parameters[\"W\" + str(l)] - learning_rate * derivatives[\"dW\" + str(l)]\n",
    "            parameters[\"b\" + str(l)] = parameters[\"b\" + str(l)] - learning_rate * derivatives[\"db\" + str(l)]\n",
    "            \n",
    "#             print(\"-->derivatives['db' + str(l).shape] = \" + str(derivatives[\"db\" + str(l)].shape))\n",
    "            \n",
    "#             print(\"after\")\n",
    "#             print(\"W\" + str(l) + str(parameters[\"W\" + str(l)]))\n",
    "        \n",
    "    return parameters, train_accuracy, test_accuracy ,train_cost , test_cost"
   ]
  },
  {
   "cell_type": "code",
   "execution_count": null,
   "metadata": {},
   "outputs": [],
   "source": []
  },
  {
   "cell_type": "code",
   "execution_count": 22,
   "metadata": {},
   "outputs": [
    {
     "name": "stdout",
     "output_type": "stream",
     "text": [
      "Train accuracy = 0.7245\n",
      "test accuracy = 0.713\n"
     ]
    },
    {
     "data": {
      "image/png": "[encoded data removed]",
      "text/plain": [
       "<Figure size 432x288 with 1 Axes>"
      ]
     },
     "metadata": {},
     "output_type": "display_data"
    },
    {
     "data": {
      "image/png": "[encoded data removed]",
      "text/plain": [
       "<Figure size 432x288 with 1 Axes>"
      ]
     },
     "metadata": {},
     "output_type": "display_data"
    }
   ],
   "source": [
    "layers_size = [784,10]\n",
    "x_train, y_train, x_test, y_test = get_mnist_dataset(2000,1000)\n",
    "\n",
    "# x_train = np.random.randn(3,10) * 0.001\n",
    "# y_train = np.zeros((1,10))\n",
    "parameters = parameters = generate_parameters(layers_size)\n",
    "parameters, train_accuracy , test_accuracy ,train_cost, test_cost = train_model(x_train,y_train,0.005, 100, [784,10], x_test, y_test,parameters)\n",
    "\n",
    "print(\"Train accuracy = \" + str(calculate_accuracy(x_train,y_train,parameters)))\n",
    "\n",
    "print(\"test accuracy = \" + str(calculate_accuracy(x_test,y_test,parameters)))\n",
    "\n",
    "# print(\"Test accuracy = \" + str(calculate_accuracy(x_test,y_test,parameters)))\n",
    "\n",
    "plt.plot(train_accuracy)\n",
    "plt.plot(test_accuracy)\n",
    "plt.show()\n",
    "\n",
    "\n",
    "plt.plot(train_cost)\n",
    "plt.plot(test_cost)\n",
    "plt.show()"
   ]
  }
 ],
 "metadata": {
  "kernelspec": {
   "display_name": "Python 3",
   "language": "python",
   "name": "python3"
  },
  "language_info": {
   "codemirror_mode": {
    "name": "ipython",
    "version": 3
   },
   "file_extension": ".py",
   "mimetype": "text/x-python",
   "name": "python",
   "nbconvert_exporter": "python",
   "pygments_lexer": "ipython3",
   "version": "3.6.3"
  }
 },
 "nbformat": 4,
 "nbformat_minor": 2
}
